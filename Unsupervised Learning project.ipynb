{
  "nbformat": 4,
  "nbformat_minor": 0,
  "metadata": {
    "colab": {
      "name": "CSC311_UnsupervisedLearning_2022_project.ipynb",
      "provenance": []
    },
    "kernelspec": {
      "name": "python3",
      "display_name": "Python 3"
    },
    "language_info": {
      "name": "python"
    }
  },
  "cells": [
    {
      "cell_type": "markdown",
      "source": [
        "# PROJECT"
      ],
      "metadata": {
        "id": "CggwK3sb1PQJ"
      }
    },
    {
      "cell_type": "markdown",
      "source": [
        "##Import all relevant libraries here"
      ],
      "metadata": {
        "id": "kYw5DzcFK1cE"
      }
    },
    {
      "cell_type": "code",
      "source": [
        "#0. import all necessary libraries\n",
        "import numpy as np\n",
        "import pandas as pd\n",
        "from matplotlib import pyplot as plt\n",
        "from sklearn.preprocessing import StandardScaler\n",
        "from sklearn.cluster import KMeans\n",
        "from sklearn.neighbors import KNeighborsClassifier\n",
        "from sklearn.model_selection import train_test_split\n",
        "from sklearn.metrics import accuracy_score\n",
        "from sklearn.metrics import  classification_report, confusion_matrix\n",
        "from scipy.stats import mode\n",
        "\n"
      ],
      "metadata": {
        "id": "ugEKBTri1c04"
      },
      "execution_count": 77,
      "outputs": []
    },
    {
      "cell_type": "markdown",
      "source": [
        "## Import dataset\n"
      ],
      "metadata": {
        "id": "dmKJJfnwN9sQ"
      }
    },
    {
      "cell_type": "markdown",
      "source": [
        "The dataset has been uploaded to Google drive and the link is\n"
      ],
      "metadata": {
        "id": "ud0hJ2PHbWEg"
      }
    },
    {
      "cell_type": "code",
      "source": [
        "#1. import google drive into colab\n",
        "from google.colab import drive\n",
        "\n",
        "#2. mount the drive\n",
        "drive.mount('/content/drive')\n",
        "\n",
        "#3. read the dataset (in CSV format) into a python dataframe using pandas\n",
        "df = pd.read_csv('/content/drive/MyDrive/CSC311MLUSL_DATASET.csv')\n",
        "\n",
        "#4. preview the data\n",
        "df.head(10)"
      ],
      "metadata": {
        "id": "B4tTrNfOOOdu",
        "colab": {
          "base_uri": "https://localhost:8080/",
          "height": 380
        },
        "outputId": "61813f18-bf67-42c1-8ec3-9a66f39418e8"
      },
      "execution_count": 78,
      "outputs": [
        {
          "output_type": "stream",
          "name": "stdout",
          "text": [
            "Drive already mounted at /content/drive; to attempt to forcibly remount, call drive.mount(\"/content/drive\", force_remount=True).\n"
          ]
        },
        {
          "output_type": "execute_result",
          "data": {
            "text/plain": [
              "    Area  Perimeter  Compactness  Length  Width  Asymmetry  kernel_len  class\n",
              "0  15.26      14.84       0.8710   5.763  3.312      2.221       5.220      1\n",
              "1  14.88      14.57       0.8811   5.554  3.333      1.018       4.956      1\n",
              "2  14.29      14.09       0.9050   5.291  3.337      2.699       4.825      1\n",
              "3  13.84      13.94       0.8955   5.324  3.379      2.259       4.805      1\n",
              "4  16.14      14.99       0.9034   5.658  3.562      1.355       5.175      1\n",
              "5  14.38      14.21       0.8951   5.386  3.312      2.462       4.956      1\n",
              "6  14.69      14.49       0.8799   5.563  3.259      3.586       5.219      1\n",
              "7  14.11      14.10       0.8911   5.420  3.302      2.700       5.000      1\n",
              "8  16.63      15.46       0.8747   6.053  3.465      2.040       5.877      1\n",
              "9  16.44      15.25       0.8880   5.884  3.505      1.969       5.533      1"
            ],
            "text/html": [
              "\n",
              "  <div id=\"df-207c363d-49c6-4e71-8d04-704de06f0abb\">\n",
              "    <div class=\"colab-df-container\">\n",
              "      <div>\n",
              "<style scoped>\n",
              "    .dataframe tbody tr th:only-of-type {\n",
              "        vertical-align: middle;\n",
              "    }\n",
              "\n",
              "    .dataframe tbody tr th {\n",
              "        vertical-align: top;\n",
              "    }\n",
              "\n",
              "    .dataframe thead th {\n",
              "        text-align: right;\n",
              "    }\n",
              "</style>\n",
              "<table border=\"1\" class=\"dataframe\">\n",
              "  <thead>\n",
              "    <tr style=\"text-align: right;\">\n",
              "      <th></th>\n",
              "      <th>Area</th>\n",
              "      <th>Perimeter</th>\n",
              "      <th>Compactness</th>\n",
              "      <th>Length</th>\n",
              "      <th>Width</th>\n",
              "      <th>Asymmetry</th>\n",
              "      <th>kernel_len</th>\n",
              "      <th>class</th>\n",
              "    </tr>\n",
              "  </thead>\n",
              "  <tbody>\n",
              "    <tr>\n",
              "      <th>0</th>\n",
              "      <td>15.26</td>\n",
              "      <td>14.84</td>\n",
              "      <td>0.8710</td>\n",
              "      <td>5.763</td>\n",
              "      <td>3.312</td>\n",
              "      <td>2.221</td>\n",
              "      <td>5.220</td>\n",
              "      <td>1</td>\n",
              "    </tr>\n",
              "    <tr>\n",
              "      <th>1</th>\n",
              "      <td>14.88</td>\n",
              "      <td>14.57</td>\n",
              "      <td>0.8811</td>\n",
              "      <td>5.554</td>\n",
              "      <td>3.333</td>\n",
              "      <td>1.018</td>\n",
              "      <td>4.956</td>\n",
              "      <td>1</td>\n",
              "    </tr>\n",
              "    <tr>\n",
              "      <th>2</th>\n",
              "      <td>14.29</td>\n",
              "      <td>14.09</td>\n",
              "      <td>0.9050</td>\n",
              "      <td>5.291</td>\n",
              "      <td>3.337</td>\n",
              "      <td>2.699</td>\n",
              "      <td>4.825</td>\n",
              "      <td>1</td>\n",
              "    </tr>\n",
              "    <tr>\n",
              "      <th>3</th>\n",
              "      <td>13.84</td>\n",
              "      <td>13.94</td>\n",
              "      <td>0.8955</td>\n",
              "      <td>5.324</td>\n",
              "      <td>3.379</td>\n",
              "      <td>2.259</td>\n",
              "      <td>4.805</td>\n",
              "      <td>1</td>\n",
              "    </tr>\n",
              "    <tr>\n",
              "      <th>4</th>\n",
              "      <td>16.14</td>\n",
              "      <td>14.99</td>\n",
              "      <td>0.9034</td>\n",
              "      <td>5.658</td>\n",
              "      <td>3.562</td>\n",
              "      <td>1.355</td>\n",
              "      <td>5.175</td>\n",
              "      <td>1</td>\n",
              "    </tr>\n",
              "    <tr>\n",
              "      <th>5</th>\n",
              "      <td>14.38</td>\n",
              "      <td>14.21</td>\n",
              "      <td>0.8951</td>\n",
              "      <td>5.386</td>\n",
              "      <td>3.312</td>\n",
              "      <td>2.462</td>\n",
              "      <td>4.956</td>\n",
              "      <td>1</td>\n",
              "    </tr>\n",
              "    <tr>\n",
              "      <th>6</th>\n",
              "      <td>14.69</td>\n",
              "      <td>14.49</td>\n",
              "      <td>0.8799</td>\n",
              "      <td>5.563</td>\n",
              "      <td>3.259</td>\n",
              "      <td>3.586</td>\n",
              "      <td>5.219</td>\n",
              "      <td>1</td>\n",
              "    </tr>\n",
              "    <tr>\n",
              "      <th>7</th>\n",
              "      <td>14.11</td>\n",
              "      <td>14.10</td>\n",
              "      <td>0.8911</td>\n",
              "      <td>5.420</td>\n",
              "      <td>3.302</td>\n",
              "      <td>2.700</td>\n",
              "      <td>5.000</td>\n",
              "      <td>1</td>\n",
              "    </tr>\n",
              "    <tr>\n",
              "      <th>8</th>\n",
              "      <td>16.63</td>\n",
              "      <td>15.46</td>\n",
              "      <td>0.8747</td>\n",
              "      <td>6.053</td>\n",
              "      <td>3.465</td>\n",
              "      <td>2.040</td>\n",
              "      <td>5.877</td>\n",
              "      <td>1</td>\n",
              "    </tr>\n",
              "    <tr>\n",
              "      <th>9</th>\n",
              "      <td>16.44</td>\n",
              "      <td>15.25</td>\n",
              "      <td>0.8880</td>\n",
              "      <td>5.884</td>\n",
              "      <td>3.505</td>\n",
              "      <td>1.969</td>\n",
              "      <td>5.533</td>\n",
              "      <td>1</td>\n",
              "    </tr>\n",
              "  </tbody>\n",
              "</table>\n",
              "</div>\n",
              "      <button class=\"colab-df-convert\" onclick=\"convertToInteractive('df-207c363d-49c6-4e71-8d04-704de06f0abb')\"\n",
              "              title=\"Convert this dataframe to an interactive table.\"\n",
              "              style=\"display:none;\">\n",
              "        \n",
              "  <svg xmlns=\"http://www.w3.org/2000/svg\" height=\"24px\"viewBox=\"0 0 24 24\"\n",
              "       width=\"24px\">\n",
              "    <path d=\"M0 0h24v24H0V0z\" fill=\"none\"/>\n",
              "    <path d=\"M18.56 5.44l.94 2.06.94-2.06 2.06-.94-2.06-.94-.94-2.06-.94 2.06-2.06.94zm-11 1L8.5 8.5l.94-2.06 2.06-.94-2.06-.94L8.5 2.5l-.94 2.06-2.06.94zm10 10l.94 2.06.94-2.06 2.06-.94-2.06-.94-.94-2.06-.94 2.06-2.06.94z\"/><path d=\"M17.41 7.96l-1.37-1.37c-.4-.4-.92-.59-1.43-.59-.52 0-1.04.2-1.43.59L10.3 9.45l-7.72 7.72c-.78.78-.78 2.05 0 2.83L4 21.41c.39.39.9.59 1.41.59.51 0 1.02-.2 1.41-.59l7.78-7.78 2.81-2.81c.8-.78.8-2.07 0-2.86zM5.41 20L4 18.59l7.72-7.72 1.47 1.35L5.41 20z\"/>\n",
              "  </svg>\n",
              "      </button>\n",
              "      \n",
              "  <style>\n",
              "    .colab-df-container {\n",
              "      display:flex;\n",
              "      flex-wrap:wrap;\n",
              "      gap: 12px;\n",
              "    }\n",
              "\n",
              "    .colab-df-convert {\n",
              "      background-color: #E8F0FE;\n",
              "      border: none;\n",
              "      border-radius: 50%;\n",
              "      cursor: pointer;\n",
              "      display: none;\n",
              "      fill: #1967D2;\n",
              "      height: 32px;\n",
              "      padding: 0 0 0 0;\n",
              "      width: 32px;\n",
              "    }\n",
              "\n",
              "    .colab-df-convert:hover {\n",
              "      background-color: #E2EBFA;\n",
              "      box-shadow: 0px 1px 2px rgba(60, 64, 67, 0.3), 0px 1px 3px 1px rgba(60, 64, 67, 0.15);\n",
              "      fill: #174EA6;\n",
              "    }\n",
              "\n",
              "    [theme=dark] .colab-df-convert {\n",
              "      background-color: #3B4455;\n",
              "      fill: #D2E3FC;\n",
              "    }\n",
              "\n",
              "    [theme=dark] .colab-df-convert:hover {\n",
              "      background-color: #434B5C;\n",
              "      box-shadow: 0px 1px 3px 1px rgba(0, 0, 0, 0.15);\n",
              "      filter: drop-shadow(0px 1px 2px rgba(0, 0, 0, 0.3));\n",
              "      fill: #FFFFFF;\n",
              "    }\n",
              "  </style>\n",
              "\n",
              "      <script>\n",
              "        const buttonEl =\n",
              "          document.querySelector('#df-207c363d-49c6-4e71-8d04-704de06f0abb button.colab-df-convert');\n",
              "        buttonEl.style.display =\n",
              "          google.colab.kernel.accessAllowed ? 'block' : 'none';\n",
              "\n",
              "        async function convertToInteractive(key) {\n",
              "          const element = document.querySelector('#df-207c363d-49c6-4e71-8d04-704de06f0abb');\n",
              "          const dataTable =\n",
              "            await google.colab.kernel.invokeFunction('convertToInteractive',\n",
              "                                                     [key], {});\n",
              "          if (!dataTable) return;\n",
              "\n",
              "          const docLinkHtml = 'Like what you see? Visit the ' +\n",
              "            '<a target=\"_blank\" href=https://colab.research.google.com/notebooks/data_table.ipynb>data table notebook</a>'\n",
              "            + ' to learn more about interactive tables.';\n",
              "          element.innerHTML = '';\n",
              "          dataTable['output_type'] = 'display_data';\n",
              "          await google.colab.output.renderOutput(dataTable, element);\n",
              "          const docLink = document.createElement('div');\n",
              "          docLink.innerHTML = docLinkHtml;\n",
              "          element.appendChild(docLink);\n",
              "        }\n",
              "      </script>\n",
              "    </div>\n",
              "  </div>\n",
              "  "
            ]
          },
          "metadata": {},
          "execution_count": 78
        }
      ]
    },
    {
      "cell_type": "markdown",
      "source": [
        "## Separate X and Y\n",
        "## let Y be the label and X all other columns"
      ],
      "metadata": {
        "id": "N6d3bbJTPXwI"
      }
    },
    {
      "cell_type": "code",
      "source": [
        "df2=df[['Area','Perimeter','Compactness','Length','Width','Asymmetry','kernel_len','class']]\n",
        "X = df2.loc[:,df2.columns !='class']\n",
        "Y = df2.loc[:,df2.columns =='class']\n",
        "#print(Y)\n",
        "df['class']= df['class'].map(\n",
        "    {1:0,2:1,3:2})\n",
        "df\n",
        "\n",
        "plt.scatter(X.iloc[:,0],X.iloc[:,1],c='Red')\n",
        "plt.xlabel(\"Area\")\n",
        "plt.ylabel(\"Perimeter\")\n",
        "#plot Area vs Perimeter \n",
        "\n"
      ],
      "metadata": {
        "id": "xPuYsw86Plig",
        "colab": {
          "base_uri": "https://localhost:8080/",
          "height": 296
        },
        "outputId": "aa383d1f-8175-417b-ec6a-fd34d275f607"
      },
      "execution_count": 79,
      "outputs": [
        {
          "output_type": "execute_result",
          "data": {
            "text/plain": [
              "Text(0, 0.5, 'Perimeter')"
            ]
          },
          "metadata": {},
          "execution_count": 79
        },
        {
          "output_type": "display_data",
          "data": {
            "text/plain": [
              "<Figure size 432x288 with 1 Axes>"
            ],
            "image/png": "[encoded data removed]"
          },
          "metadata": {
            "needs_background": "light"
          }
        }
      ]
    },
    {
      "cell_type": "markdown",
      "source": [
        "## KMeans"
      ],
      "metadata": {
        "id": "nAyiVr0MSyqY"
      }
    },
    {
      "cell_type": "code",
      "source": [
        "#scale your data\n",
        "#plot an Elbow graph using 10 iterations\n",
        "#plot Inertia vs number of clusters \n",
        "\n",
        "scaler=StandardScaler()\n",
        "df2_scaled=scaler.fit_transform(df2)\n",
        "\n",
        "temp=[]\n",
        "for c in range(1,11):\n",
        "  km=KMeans(n_clusters=c,init='k-means++')\n",
        "  km.fit(df2_scaled)\n",
        "  temp.append(km.inertia_)\n",
        "\n",
        "  plt.plot(range(len(temp)),temp,marker='x')\n",
        "  plt.xlabel('Number of clusters')\n",
        "  \n",
        "  plt.ylabel('Inertia')\n"
      ],
      "metadata": {
        "id": "dtc_1XAfS1Sm",
        "colab": {
          "base_uri": "https://localhost:8080/",
          "height": 279
        },
        "outputId": "db08f277-88a6-4843-85b3-f96c4a2ce1fe"
      },
      "execution_count": 80,
      "outputs": [
        {
          "output_type": "display_data",
          "data": {
            "text/plain": [
              "<Figure size 432x288 with 1 Axes>"
            ],
            "image/png": "[encoded data removed]"
          },
          "metadata": {
            "needs_background": "light"
          }
        }
      ]
    },
    {
      "cell_type": "code",
      "source": [
        "#cluster the dataset using k = 3\n",
        "km=KMeans(n_clusters=3)\n",
        "labels=km.fit_predict(df2_scaled)\n",
        "centroids=km.cluster_centers_\n",
        " \n",
        "cluster1=df2_scaled[labels == 0]\n",
        "cluster2=df2_scaled[labels == 1]\n",
        "cluster3=df2_scaled[labels == 2]\n",
        "\n",
        "\n",
        "#plot the results of Area and Perimeter \n",
        "plt.scatter(cluster1[:,0],cluster1[:,1],color='green',label='cluster 1')\n",
        "plt.scatter(cluster2[:,0],cluster2[:,1],color='red' ,label='cluster 2')\n",
        "plt.scatter(cluster3[:,0],cluster3[:,1],color='blue', label='cluster 3')\n",
        "#show the 3 clusters and their centroids\n",
        "plt.plot(centroids[:,0],centroids[:,1],'mo',markersize=8,label='centroids')\n",
        "plt.legend()\n",
        "plt.show()\n",
        "#show the 3 clusters and their centroids\n",
        "\n",
        "\n"
      ],
      "metadata": {
        "id": "OIpeKLMZUPrn",
        "colab": {
          "base_uri": "https://localhost:8080/",
          "height": 265
        },
        "outputId": "ce151801-1445-4a33-fb02-e462ca374ddb"
      },
      "execution_count": 81,
      "outputs": [
        {
          "output_type": "display_data",
          "data": {
            "text/plain": [
              "<Figure size 432x288 with 1 Axes>"
            ],
            "image/png": "[encoded data removed]"
          },
          "metadata": {
            "needs_background": "light"
          }
        }
      ]
    },
    {
      "cell_type": "code",
      "source": [
        "#plot the results of Length and Width \n",
        "plt.scatter(cluster1[:,3],cluster1[:,4],color='red',label='cluster 1')\n",
        "plt.scatter(cluster2[:,3],cluster2[:,4],color='green', label= 'cluster 2')\n",
        "plt.scatter(cluster3[:,3],cluster3[:,4],color='blue',label='cluster 3')\n",
        "\n",
        "\n",
        "\n",
        "#show the 3 clusters and their centroids\n",
        "plt.plot(centroids[:,0],centroids[:,1],'mo',markersize=10,label='centroids')\n",
        "plt.legend()\n",
        "plt.show()"
      ],
      "metadata": {
        "id": "uxfaUm_xvQ9c",
        "colab": {
          "base_uri": "https://localhost:8080/",
          "height": 265
        },
        "outputId": "ab63cd41-db3c-4c6f-db6b-6fdab7cf3329"
      },
      "execution_count": 82,
      "outputs": [
        {
          "output_type": "display_data",
          "data": {
            "text/plain": [
              "<Figure size 432x288 with 1 Axes>"
            ],
            "image/png": "[encoded data removed]"
          },
          "metadata": {
            "needs_background": "light"
          }
        }
      ]
    },
    {
      "cell_type": "code",
      "source": [
        "#Now lets cluster the dataset using the number of k you select from the Elbow method above\n",
        "km=KMeans(n_clusters=2)\n",
        "labels=km.fit_predict(df2_scaled)\n",
        "centroids=km.cluster_centers_\n",
        "\n",
        "cluster1=df2_scaled[labels==0]\n",
        "cluster2=df2_scaled[labels==1]\n",
        "cluster3=df2_scaled[labels==2]\n",
        "\n",
        " \n",
        "#plot the results of Area and Perimeter \n",
        "plt.scatter(cluster1[:,0],cluster1[:,1], color='blue',label='cluster 1')\n",
        "plt.scatter(cluster2[:,0],cluster2[:,1], color='red',label='cluster 2')\n",
        "plt.scatter(cluster3[:,0],cluster3[:,1], color='green',label='cluster3')\n",
        "\n",
        "\n",
        "#show the 3 clusters and their centroids\n",
        "plt.plot(centroids[:,0],centroids[:,1],'mo',markersize=8,label='centroids')\n",
        "plt.legend()\n",
        "plt.show()\n",
        "\n",
        "##plot the results of Length and Width for k=2\n",
        "plt.scatter(cluster1[:,3],cluster1[:,4], color='red',label='cluster 1')\n",
        "plt.scatter(cluster2[:,3],cluster2[:,4],color='blue',label='cluster 2')\n",
        "\n",
        "\n",
        "#show the 3 clusters and their centroids\n",
        "plt.plot(centroids[:,3],centroids[:,4] ,'mo',markersize=8,label='centroids')\n",
        "plt.legend()\n",
        "plt.show()\n",
        "\n"
      ],
      "metadata": {
        "id": "uy5cMsGLYWIt",
        "colab": {
          "base_uri": "https://localhost:8080/",
          "height": 513
        },
        "outputId": "ee8eada1-a200-4a74-e726-aa76c9e674e5"
      },
      "execution_count": 83,
      "outputs": [
        {
          "output_type": "display_data",
          "data": {
            "text/plain": [
              "<Figure size 432x288 with 1 Axes>"
            ],
            "image/png": "[encoded data removed]"
          },
          "metadata": {
            "needs_background": "light"
          }
        },
        {
          "output_type": "display_data",
          "data": {
            "text/plain": [
              "<Figure size 432x288 with 1 Axes>"
            ],
            "image/png": "[encoded data removed]"
          },
          "metadata": {
            "needs_background": "light"
          }
        }
      ]
    },
    {
      "cell_type": "markdown",
      "source": [
        "### Calculate Accuracies of KMeans"
      ],
      "metadata": {
        "id": "eCthgZs5daDW"
      }
    },
    {
      "cell_type": "code",
      "source": [
        "#compare accucies of both clustering i.e. k = 3 vs k = your choice\n",
        "\n",
        "scalar=StandardScaler()\n",
        "Xnew=scaler.fit_transform(X)\n",
        "X_train,X_test,Y_train,Y_test= train_test_split(Xnew,Y,test_size=0.3, random_state=101,shuffle=True)\n",
        "\n",
        "km=KMeans(n_clusters=3)\n",
        "label=km.fit_predict(df2_scaled)\n",
        "\n",
        "\n",
        "\n",
        "print(\"Accuracy Score for k=3 \",accuracy_score(Y,label)*100)  \n",
        "print(\"\\n k=3 vs k=2 \\n\")\n",
        "km=KMeans(n_clusters=2)\n",
        "results=km.fit_predict(df2_scaled)\n",
        "print(\"Accuracy Score for k=2 \",accuracy_score(Y,results)*100)\n",
        "\n",
        "\n",
        "\n",
        "\n",
        "\n",
        "\n"
      ],
      "metadata": {
        "id": "EC0qTYDydY5X",
        "colab": {
          "base_uri": "https://localhost:8080/"
        },
        "outputId": "b245ca71-bfe5-4533-995b-861bbb57e1bf"
      },
      "execution_count": 84,
      "outputs": [
        {
          "output_type": "stream",
          "name": "stdout",
          "text": [
            "Accuracy Score for k=3  32.38095238095238\n",
            "\n",
            " k=3 vs k=2 \n",
            "\n",
            "Accuracy Score for k=2  8.571428571428571\n"
          ]
        }
      ]
    },
    {
      "cell_type": "markdown",
      "source": [
        "##AHC"
      ],
      "metadata": {
        "id": "xjs_6iTedOVI"
      }
    },
    {
      "cell_type": "code",
      "source": [
        "#Plot Dendrogram to determin the number of clusters\n",
        "from scipy.cluster import hierarchy as sch\n",
        "\n",
        "sch.dendrogram(sch.linkage(X,method=\"ward\"))\n",
        "plt.xlabel(\"clusters\")\n",
        "plt.ylabel(\"Euclidean\")\n",
        "plt.axhline(y=20,color='r',linestyle='--')\n",
        "plt.show()"
      ],
      "metadata": {
        "id": "dMl0jhQUdR0W",
        "colab": {
          "base_uri": "https://localhost:8080/",
          "height": 279
        },
        "outputId": "84c4d895-d26c-4e8f-c0bb-e5b18bb3378d"
      },
      "execution_count": 85,
      "outputs": [
        {
          "output_type": "display_data",
          "data": {
            "text/plain": [
              "<Figure size 432x288 with 1 Axes>"
            ],
            "image/png": "[encoded data removed]"
          },
          "metadata": {
            "needs_background": "light"
          }
        }
      ]
    },
    {
      "cell_type": "code",
      "source": [
        "#Perform AHC clustering with number of clusters found in the dendrogram \n",
        "from sklearn.cluster import AgglomerativeClustering\n",
        "\n",
        "ahc=AgglomerativeClustering(n_clusters=3,affinity=\"euclidean\",linkage=\"ward\")\n",
        "y=ahc.fit_predict(X)\n",
        "X=np.array(X)\n",
        "\n",
        "plt.scatter(X[y==0,0],X[y==0,1],c='red',label='cluster1')\n",
        "plt.scatter(X[y==1,0],X[y==1,1],c='green',label='cluster2')\n",
        "plt.scatter(X[y==2,0],X[y==2,1],c='blue',label='cluster3')\n",
        "plt.legend()\n",
        "plt.show()\n"
      ],
      "metadata": {
        "id": "lRk-vgDfh2rF",
        "colab": {
          "base_uri": "https://localhost:8080/",
          "height": 265
        },
        "outputId": "fcfeeac4-c85b-4318-abee-04e56b1bec15"
      },
      "execution_count": 86,
      "outputs": [
        {
          "output_type": "display_data",
          "data": {
            "text/plain": [
              "<Figure size 432x288 with 1 Axes>"
            ],
            "image/png": "[encoded data removed]"
          },
          "metadata": {
            "needs_background": "light"
          }
        }
      ]
    },
    {
      "cell_type": "code",
      "source": [
        ""
      ],
      "metadata": {
        "id": "_mcb7ul7GT2F"
      },
      "execution_count": null,
      "outputs": []
    },
    {
      "cell_type": "code",
      "source": [
        "#plot scatter plots from B2, for Lenght and width, including cluster centroids\n",
        "km=KMeans(n_clusters=3)\n",
        "labels=km.fit_predict(df2_scaled)\n",
        "centroids=km.cluster_centers_\n",
        "\n",
        "cluster1=df2_scaled[labels==0]\n",
        "cluster2=df2_scaled[labels==1]\n",
        "cluster3=df2_scaled[labels==2]\n",
        "\n",
        "plt.scatter(cluster1[:,3] ,cluster1[:,4],color='blue',label='cluster1')\n",
        "plt.scatter(cluster2[:,3],cluster2[:,4],color='red',label='cluster2')\n",
        "plt.scatter(cluster3[:,3],cluster3[:,4],color='green',label='cluster3')\n",
        "\n",
        "plt.plot(centroids[:,0],centroids[:,1],'mo',markersize=8,label='centroids')\n",
        "plt.xlabel('Length')\n",
        "plt.ylabel('width')\n",
        "plt.legend()\n",
        "plt.show()\n",
        "\n"
      ],
      "metadata": {
        "id": "gu4E_QrK_Efw",
        "colab": {
          "base_uri": "https://localhost:8080/",
          "height": 279
        },
        "outputId": "51bf168b-964f-4d25-c91f-1c8d0f00f716"
      },
      "execution_count": 87,
      "outputs": [
        {
          "output_type": "display_data",
          "data": {
            "text/plain": [
              "<Figure size 432x288 with 1 Axes>"
            ],
            "image/png": "[encoded data removed]"
          },
          "metadata": {
            "needs_background": "light"
          }
        }
      ]
    },
    {
      "cell_type": "code",
      "source": [
        "cluster1=df2_scaled[labels==0]\n",
        "cluster2=df2_scaled[labels==1]\n",
        "cluster3=df2_scaled[labels==2]\n",
        "\n",
        "plt.scatter(cluster1[:,3] ,cluster1[:,4],color='blue',label='cluster1')\n",
        "plt.scatter(cluster2[:,3],cluster2[:,4],color='red',label='cluster2')\n",
        "plt.scatter(cluster3[:,3],cluster3[:,4],color='green',label='cluster3')\n",
        "\n",
        "plt.plot(centroids[:,0],centroids[:,1],'mo',markersize=8,label='centroids')\n",
        "plt.xlabel('Length')\n",
        "plt.ylabel('width')\n",
        "plt.legend()\n",
        "plt.show()"
      ],
      "metadata": {
        "colab": {
          "base_uri": "https://localhost:8080/",
          "height": 279
        },
        "id": "QS8YrFfXaqhb",
        "outputId": "2a13a997-0c67-4fdb-e4cc-6400c669fc7b"
      },
      "execution_count": 88,
      "outputs": [
        {
          "output_type": "display_data",
          "data": {
            "text/plain": [
              "<Figure size 432x288 with 1 Axes>"
            ],
            "image/png": "[encoded data removed]"
          },
          "metadata": {
            "needs_background": "light"
          }
        }
      ]
    },
    {
      "cell_type": "code",
      "source": [
        "#check accuracy\n",
        "scaler=StandardScaler()\n",
        "Xnew=scaler.fit_transform(X)\n",
        "ahc=AgglomerativeClustering(n_clusters=3,affinity='euclidean',linkage='ward')\n",
        "y_ahc=ahc.fit_predict(X)\n",
        "\n",
        "\n",
        "print(\"Accuracy score = \",accuracy_score(Y,y_ahc)*100)"
      ],
      "metadata": {
        "id": "PLQiyYUQ_SgG",
        "colab": {
          "base_uri": "https://localhost:8080/"
        },
        "outputId": "edf80407-64d6-4a48-9205-2befa396e7a6"
      },
      "execution_count": 89,
      "outputs": [
        {
          "output_type": "stream",
          "name": "stdout",
          "text": [
            "Accuracy score =  3.3333333333333335\n"
          ]
        }
      ]
    },
    {
      "cell_type": "markdown",
      "source": [
        "## KNN"
      ],
      "metadata": {
        "id": "69l0ZCxEtWYe"
      }
    },
    {
      "cell_type": "code",
      "source": [
        "from sklearn.utils.multiclass import check_classification_targets\n",
        "#cluster the dataset using KNN and k = 3\n",
        "scaler=StandardScaler()\n",
        "scaler.fit(X_train)\n",
        "\n",
        "X_train=scaler.transform(X_train)\n",
        "X_test=scaler.transform(X_test)\n",
        "\n",
        "\n",
        "classifier=KNeighborsClassifier(n_neighbors=3)\n",
        "classifier.fit(X_train,Y_train)\n",
        " \n",
        "y_pred=classifier.predict(X_test)\n",
        "\n",
        "print(classification_report(Y_test,y_pred))\n",
        "\n",
        "\n",
        "\n",
        "\n"
      ],
      "metadata": {
        "id": "FrUTJu8-tSYp",
        "colab": {
          "base_uri": "https://localhost:8080/"
        },
        "outputId": "cba79fec-8ef4-4784-8370-6e8ceab77942"
      },
      "execution_count": 90,
      "outputs": [
        {
          "output_type": "stream",
          "name": "stdout",
          "text": [
            "              precision    recall  f1-score   support\n",
            "\n",
            "           1       1.00      0.73      0.84        26\n",
            "           2       0.83      1.00      0.91        15\n",
            "           3       0.85      1.00      0.92        22\n",
            "\n",
            "    accuracy                           0.89        63\n",
            "   macro avg       0.89      0.91      0.89        63\n",
            "weighted avg       0.91      0.89      0.89        63\n",
            "\n"
          ]
        },
        {
          "output_type": "stream",
          "name": "stderr",
          "text": [
            "/usr/local/lib/python3.7/dist-packages/sklearn/neighbors/_classification.py:198: DataConversionWarning: A column-vector y was passed when a 1d array was expected. Please change the shape of y to (n_samples,), for example using ravel().\n",
            "  return self._fit(X, y)\n"
          ]
        }
      ]
    },
    {
      "cell_type": "code",
      "source": [
        "#Plot a scatter plot for \"Lenght\" and \"Width\" clusters\n",
        "\n",
        "\n",
        "cm= confusion_matrix(Y_test,y_pred)\n",
        "plt.scatter(X[y==0,3],X[y==0,4],c='red',label='cluster1')\n",
        "plt.scatter(X[y==1,3],X[y==1,4], c='green',label='cluster2')\n",
        "plt.scatter(X[y==2,3],X[y==2,4], c='blue',label='cluster3')\n",
        "plt.xlabel(\"Length\")\n",
        "plt.ylabel(\"width\")\n",
        "plt.legend()\n",
        "plt.show()"
      ],
      "metadata": {
        "id": "tc5AjmlKC1Ii",
        "colab": {
          "base_uri": "https://localhost:8080/",
          "height": 279
        },
        "outputId": "2e3a7d02-25da-4224-ec42-3cc50dde68b5"
      },
      "execution_count": 91,
      "outputs": [
        {
          "output_type": "display_data",
          "data": {
            "text/plain": [
              "<Figure size 432x288 with 1 Axes>"
            ],
            "image/png": "[encoded data removed]"
          },
          "metadata": {
            "needs_background": "light"
          }
        }
      ]
    },
    {
      "cell_type": "code",
      "source": [
        "#Results - compare prediction results with known values of Y\n",
        "scalar=StandardScaler()\n",
        "Xnew=scaler.fit_transform(X)\n",
        "X_train,X_test,Y_train,Y_test= train_test_split(Xnew,Y,test_size=0.3, random_state=101,shuffle=True)\n",
        "\n",
        "classifier=KNeighborsClassifier(n_neighbors=3)\n",
        "classifier.fit(X_train,Y_train)\n",
        "\n",
        "\n",
        "results=classifier.predict(X_test)\n",
        "print('Accurancy score = ',accuracy_score(results,Y_test)*100)\n",
        "\n",
        "ac1=accuracy_score(results,Y_test)\n"
      ],
      "metadata": {
        "id": "cOBR8wmOtUtL",
        "colab": {
          "base_uri": "https://localhost:8080/"
        },
        "outputId": "bced2792-3123-4d25-f5c4-2ef82f45100d"
      },
      "execution_count": 92,
      "outputs": [
        {
          "output_type": "stream",
          "name": "stdout",
          "text": [
            "Accurancy score =  88.88888888888889\n"
          ]
        },
        {
          "output_type": "stream",
          "name": "stderr",
          "text": [
            "/usr/local/lib/python3.7/dist-packages/sklearn/neighbors/_classification.py:198: DataConversionWarning: A column-vector y was passed when a 1d array was expected. Please change the shape of y to (n_samples,), for example using ravel().\n",
            "  return self._fit(X, y)\n"
          ]
        }
      ]
    },
    {
      "cell_type": "code",
      "source": [
        "#draw a confusion matrix of KNN\n",
        "scaler=StandardScaler()\n",
        "scaler.fit(X_train)\n",
        "\n",
        "X_train=scaler.transform(X_train)\n",
        "X_test=scaler.transform(X_test)\n",
        "\n",
        "\n",
        "classifier=KNeighborsClassifier(n_neighbors=3)\n",
        "classifier.fit(X_train,Y_train)\n",
        " \n",
        "y_pred=classifier.predict(X_test)\n",
        "\n",
        "print(confusion_matrix(Y_test,y_pred))\n"
      ],
      "metadata": {
        "id": "PYXy45mwDH48",
        "colab": {
          "base_uri": "https://localhost:8080/"
        },
        "outputId": "65e48bc6-4285-4051-a1b0-07c617df2b3e"
      },
      "execution_count": 93,
      "outputs": [
        {
          "output_type": "stream",
          "name": "stdout",
          "text": [
            "[[19  3  4]\n",
            " [ 0 15  0]\n",
            " [ 0  0 22]]\n"
          ]
        },
        {
          "output_type": "stream",
          "name": "stderr",
          "text": [
            "/usr/local/lib/python3.7/dist-packages/sklearn/neighbors/_classification.py:198: DataConversionWarning: A column-vector y was passed when a 1d array was expected. Please change the shape of y to (n_samples,), for example using ravel().\n",
            "  return self._fit(X, y)\n"
          ]
        }
      ]
    },
    {
      "cell_type": "code",
      "source": [
        "#Bar chart\n",
        "KmeansTest=km.fit_predict(X_test)\n",
        "a_test=ahc.fit_predict(X_test)\n",
        "knn_test=classifier.predict(X_test)\n",
        "\n",
        "accKmeans=accuracy_score(Y_test,rst)*100\n",
        "accAhc=accuracy_score(Y,y_ahc)*100\n",
        "accknn=accuracy_score(results,Y_test)*100\n",
        "\n",
        "fsize=plt.figure()\n",
        "simple=fsize.add_axes([0,0,1,1])\n",
        "pred=['kMeans','AHC','KNN']\n",
        "acc=[accKmeans,accAhc,accknn]\n",
        "simple.bar(pred,acc)\n",
        "plt.show"
      ],
      "metadata": {
        "colab": {
          "base_uri": "https://localhost:8080/",
          "height": 353
        },
        "id": "SVGvdXDtEEu2",
        "outputId": "083b7442-3b2a-4872-d4b0-888a872095f9"
      },
      "execution_count": 94,
      "outputs": [
        {
          "output_type": "execute_result",
          "data": {
            "text/plain": [
              "<function matplotlib.pyplot.show>"
            ]
          },
          "metadata": {},
          "execution_count": 94
        },
        {
          "output_type": "display_data",
          "data": {
            "text/plain": [
              "<Figure size 432x288 with 1 Axes>"
            ],
            "image/png": "[encoded data removed]"
          },
          "metadata": {
            "needs_background": "light"
          }
        }
      ]
    }
  ]
}
